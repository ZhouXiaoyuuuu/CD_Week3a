{
 "cells": [
  {
   "cell_type": "code",
   "execution_count": 20,
   "id": "500d1088",
   "metadata": {},
   "outputs": [],
   "source": [
    "import pandas as pd"
   ]
  },
  {
   "cell_type": "code",
   "execution_count": 21,
   "id": "f5a651ca",
   "metadata": {},
   "outputs": [],
   "source": [
    "url = 'https://raw.githubusercontent.com/ZhouXiaoyuuuu/CD_Week3a/main/cast_with_gender_and_ethnicity.csv'"
   ]
  },
  {
   "cell_type": "code",
   "execution_count": 22,
   "id": "a1585d6a",
   "metadata": {},
   "outputs": [],
   "source": [
    "data = pd.read_csv(url)"
   ]
  },
  {
   "cell_type": "code",
   "execution_count": 23,
   "id": "22de84bc",
   "metadata": {
    "scrolled": true
   },
   "outputs": [
    {
     "data": {
      "text/html": [
       "<div>\n",
       "<style scoped>\n",
       "    .dataframe tbody tr th:only-of-type {\n",
       "        vertical-align: middle;\n",
       "    }\n",
       "\n",
       "    .dataframe tbody tr th {\n",
       "        vertical-align: top;\n",
       "    }\n",
       "\n",
       "    .dataframe thead th {\n",
       "        text-align: right;\n",
       "    }\n",
       "</style>\n",
       "<table border=\"1\" class=\"dataframe\">\n",
       "  <thead>\n",
       "    <tr style=\"text-align: right;\">\n",
       "      <th></th>\n",
       "      <th>Unnamed: 0</th>\n",
       "      <th>name</th>\n",
       "      <th>character_name</th>\n",
       "      <th>type</th>\n",
       "      <th>filename</th>\n",
       "      <th>likelyGender</th>\n",
       "      <th>firstName</th>\n",
       "      <th>lastName</th>\n",
       "      <th>raceEthnicity</th>\n",
       "    </tr>\n",
       "  </thead>\n",
       "  <tbody>\n",
       "    <tr>\n",
       "      <th>0</th>\n",
       "      <td>1</td>\n",
       "      <td>Tom Hanks</td>\n",
       "      <td>Woody</td>\n",
       "      <td>Leading Cast</td>\n",
       "      <td>2010_0_Toy Story 3.csv</td>\n",
       "      <td>male</td>\n",
       "      <td>Tom</td>\n",
       "      <td>Hanks</td>\n",
       "      <td>W_NL</td>\n",
       "    </tr>\n",
       "    <tr>\n",
       "      <th>1</th>\n",
       "      <td>2</td>\n",
       "      <td>Tim Allen</td>\n",
       "      <td>Buzz Lightyear</td>\n",
       "      <td>Leading Cast</td>\n",
       "      <td>2010_0_Toy Story 3.csv</td>\n",
       "      <td>male</td>\n",
       "      <td>Tim</td>\n",
       "      <td>Allen</td>\n",
       "      <td>W_NL</td>\n",
       "    </tr>\n",
       "    <tr>\n",
       "      <th>2</th>\n",
       "      <td>3</td>\n",
       "      <td>Johnny Depp</td>\n",
       "      <td>Mad Hatter</td>\n",
       "      <td>Leading Cast</td>\n",
       "      <td>2010_1_Alice in Wonderland.csv</td>\n",
       "      <td>male</td>\n",
       "      <td>Johnny</td>\n",
       "      <td>Depp</td>\n",
       "      <td>W_NL</td>\n",
       "    </tr>\n",
       "    <tr>\n",
       "      <th>3</th>\n",
       "      <td>4</td>\n",
       "      <td>Alan Rickman</td>\n",
       "      <td>Blue Caterpillar</td>\n",
       "      <td>Leading Cast</td>\n",
       "      <td>2010_1_Alice in Wonderland.csv</td>\n",
       "      <td>male</td>\n",
       "      <td>Alan</td>\n",
       "      <td>Rickman</td>\n",
       "      <td>W_NL</td>\n",
       "    </tr>\n",
       "    <tr>\n",
       "      <th>4</th>\n",
       "      <td>5</td>\n",
       "      <td>Robert Downey, Jr.</td>\n",
       "      <td>Tony Stark</td>\n",
       "      <td>Lead Ensemble Members</td>\n",
       "      <td>2010_2_Iron Man 2.csv</td>\n",
       "      <td>male</td>\n",
       "      <td>Robert</td>\n",
       "      <td>Downey</td>\n",
       "      <td>W_NL</td>\n",
       "    </tr>\n",
       "  </tbody>\n",
       "</table>\n",
       "</div>"
      ],
      "text/plain": [
       "   Unnamed: 0                name    character_name                   type  \\\n",
       "0           1           Tom Hanks             Woody           Leading Cast   \n",
       "1           2           Tim Allen    Buzz Lightyear           Leading Cast   \n",
       "2           3         Johnny Depp        Mad Hatter           Leading Cast   \n",
       "3           4        Alan Rickman  Blue Caterpillar           Leading Cast   \n",
       "4           5  Robert Downey, Jr.        Tony Stark  Lead Ensemble Members   \n",
       "\n",
       "                         filename likelyGender firstName lastName  \\\n",
       "0          2010_0_Toy Story 3.csv         male       Tom    Hanks   \n",
       "1          2010_0_Toy Story 3.csv         male       Tim    Allen   \n",
       "2  2010_1_Alice in Wonderland.csv         male    Johnny     Depp   \n",
       "3  2010_1_Alice in Wonderland.csv         male      Alan  Rickman   \n",
       "4           2010_2_Iron Man 2.csv         male    Robert   Downey   \n",
       "\n",
       "  raceEthnicity  \n",
       "0          W_NL  \n",
       "1          W_NL  \n",
       "2          W_NL  \n",
       "3          W_NL  \n",
       "4          W_NL  "
      ]
     },
     "execution_count": 23,
     "metadata": {},
     "output_type": "execute_result"
    }
   ],
   "source": [
    "data.head()"
   ]
  },
  {
   "cell_type": "code",
   "execution_count": 37,
   "id": "8aa76855",
   "metadata": {},
   "outputs": [
    {
     "name": "stdout",
     "output_type": "stream",
     "text": [
      "the number of female actors: 214\n",
      "the number of male actors: 438\n"
     ]
    }
   ],
   "source": [
    "# the number of male and female actors\n",
    "\n",
    "female_actors_count = data[data['likelyGender'] == 'female'].shape[0]\n",
    "male_actors_count = data[data['likelyGender'] == 'male'].shape[0]\n",
    "print(f'the number of female actors: {female_actors_count}')\n",
    "print(f'the number of male actors: {male_actors_count}')"
   ]
  },
  {
   "cell_type": "code",
   "execution_count": 48,
   "id": "1c18f524",
   "metadata": {},
   "outputs": [
    {
     "name": "stdout",
     "output_type": "stream",
     "text": [
      "the number of White, Non-Latinx: 379\n",
      "the number of Black, Non-Latinx: 198\n",
      "the number of Hispanic or Latino: 39\n",
      "the number of Asian: 31\n"
     ]
    }
   ],
   "source": [
    "# the number of actors from different ethnicities\n",
    "\n",
    "w_nl_count = data[data['raceEthnicity'] == 'W_NL'].shape[0]\n",
    "b_nl_count = data[data['raceEthnicity'] == 'B_NL'].shape[0]\n",
    "hl_count = data[data['raceEthnicity'] == 'HL'].shape[0]\n",
    "a_count = data[data['raceEthnicity'] == 'A'].shape[0]\n",
    "print(f'the number of White, Non-Latinx: {w_nl_count}')\n",
    "print(f'the number of Black, Non-Latinx: {b_nl_count}')\n",
    "print(f'the number of Hispanic or Latino: {hl_count}')\n",
    "print(f'the number of Asian: {a_count}')"
   ]
  },
  {
   "cell_type": "code",
   "execution_count": 49,
   "id": "ef7f5e3e",
   "metadata": {},
   "outputs": [
    {
     "data": {
      "image/png": "[encoded data removed]",
      "text/plain": [
       "<Figure size 640x480 with 1 Axes>"
      ]
     },
     "metadata": {},
     "output_type": "display_data"
    }
   ],
   "source": [
    "# bar graph of different ethnicities\n",
    "\n",
    "import matplotlib.pyplot as plt\n",
    "w_nl_count = data[data['raceEthnicity'] == 'W_NL'].shape[0]\n",
    "b_nl_count = data[data['raceEthnicity'] == 'B_NL'].shape[0]\n",
    "hl_count = data[data['raceEthnicity'] == 'HL'].shape[0]\n",
    "a_count = data[data['raceEthnicity'] == 'A'].shape[0]\n",
    "ethnicities = ['White, Non-Latinx', 'Black, Non-Latinx', 'Hispanic or Latino', 'Asian']\n",
    "counts = [w_nl_count, b_nl_count, hl_count, a_count]\n",
    "\n",
    "plt.bar(ethnicities, counts, color=['blue', 'green', 'orange', 'red'])\n",
    "plt.title('Number of Actors by Ethnicity')\n",
    "plt.xlabel('Ethnicity')\n",
    "plt.ylabel('Number of Actors')\n",
    "plt.show()"
   ]
  }
 ],
 "metadata": {
  "kernelspec": {
   "display_name": "Python 3 (ipykernel)",
   "language": "python",
   "name": "python3"
  },
  "language_info": {
   "codemirror_mode": {
    "name": "ipython",
    "version": 3
   },
   "file_extension": ".py",
   "mimetype": "text/x-python",
   "name": "python",
   "nbconvert_exporter": "python",
   "pygments_lexer": "ipython3",
   "version": "3.11.4"
  }
 },
 "nbformat": 4,
 "nbformat_minor": 5
}
