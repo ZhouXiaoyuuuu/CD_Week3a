<?xml version="1.0" encoding="UTF-8"?>
<!DOCTYPE plist PUBLIC "-//Apple//DTD PLIST 1.0//EN" "http://www.apple.com/DTDs/PropertyList-1.0.dtd">
<plist version="1.0">
<dict>
	<key>URL</key>
	<string>http://localhost:8888/notebooks/%E6%9C%AA%E5%91%BD%E5%90%8D.ipynb</string>
</dict>
</plist>
